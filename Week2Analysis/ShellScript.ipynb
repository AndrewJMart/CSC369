{
 "cells": [
  {
   "cell_type": "code",
   "execution_count": 6,
   "metadata": {},
   "outputs": [
    {
     "name": "stdout",
     "output_type": "stream",
     "text": [
      "\n",
      "Running analysis with duckdb_Week2.py...\n",
      "\n",
      "Executing: python duckdb_Week2.py \"2022-04-04 01\" \"2022-04-04 02\"\n",
      "Output for timeframe '2022-04-04 01' to '2022-04-04 02':\n",
      "Execution Report:\n",
      "- Timeframe: 2022-04-04 01 to 2022-04-04 02\n",
      "- Execution Time: 22051 ms\n",
      "- Most Placed Color: #000000 (Placed 590935 times)\n",
      "- Most Placed Pixel Location: 0,0 (Placed 949 times)\n",
      "\n",
      "Executing: python duckdb_Week2.py \"2022-04-04 02\" \"2022-04-04 05\"\n",
      "Output for timeframe '2022-04-04 02' to '2022-04-04 05':\n",
      "Execution Report:\n",
      "- Timeframe: 2022-04-04 02 to 2022-04-04 05\n",
      "- Execution Time: 22616 ms\n",
      "- Most Placed Color: #000000 (Placed 1561080 times)\n",
      "- Most Placed Pixel Location: 0,0 (Placed 2589 times)\n",
      "\n",
      "Executing: python duckdb_Week2.py \"2022-04-04 05\" \"2022-04-04 11\"\n",
      "Output for timeframe '2022-04-04 05' to '2022-04-04 11':\n",
      "Execution Report:\n",
      "- Timeframe: 2022-04-04 05 to 2022-04-04 11\n",
      "- Execution Time: 22942 ms\n",
      "- Most Placed Color: #000000 (Placed 1863028 times)\n",
      "- Most Placed Pixel Location: 0,0 (Placed 4309 times)\n",
      "\n"
     ]
    }
   ],
   "source": [
    "import subprocess\n",
    "\n",
    "scripts = [\"duckdb_Week2.py\"]\n",
    "timeframes = [\n",
    "    (\"2022-04-04 01\", \"2022-04-04 02\"),  \n",
    "    (\"2022-04-04 02\", \"2022-04-04 05\"),  \n",
    "    (\"2022-04-04 05\", \"2022-04-04 11\")   \n",
    "]\n",
    "\n",
    "for script in scripts:\n",
    "    print(f\"\\nRunning analysis with {script}...\\n\")\n",
    "    for start_date, end_date in timeframes:\n",
    "        command = f'python {script} \"{start_date}\" \"{end_date}\"'\n",
    "        print(f\"Executing: {command}\")\n",
    "        try:\n",
    "            result = subprocess.run(command, shell=True, capture_output=True, text=True)\n",
    "            print(f\"Output for timeframe '{start_date}' to '{end_date}':\")\n",
    "            print(result.stdout)\n",
    "            if result.stderr:\n",
    "                print(f\"Errors for timeframe '{start_date}' to '{end_date}':\", result.stderr)\n",
    "        except Exception as e:\n",
    "            print(f\"Error while executing {script} for timeframe '{start_date}' to '{end_date}': {e}\")\n"
   ]
  }
 ],
 "metadata": {
  "kernelspec": {
   "display_name": ".venv",
   "language": "python",
   "name": "python3"
  },
  "language_info": {
   "codemirror_mode": {
    "name": "ipython",
    "version": 3
   },
   "file_extension": ".py",
   "mimetype": "text/x-python",
   "name": "python",
   "nbconvert_exporter": "python",
   "pygments_lexer": "ipython3",
   "version": "3.13.1"
  }
 },
 "nbformat": 4,
 "nbformat_minor": 2
}
