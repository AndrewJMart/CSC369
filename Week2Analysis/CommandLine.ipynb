{
 "cells": [
  {
   "cell_type": "code",
   "execution_count": null,
   "metadata": {},
   "outputs": [],
   "source": [
    "import subprocess\n",
    "\n",
    "scripts = [\n",
    "           \"duckdb_Week2.py\",\n",
    "           \"polars_Week2.py\",\n",
    "           \"pandas_Week2.py\"\n",
    "           ]\n",
    "\n",
    "timeframes = [\n",
    "    (\"2022-04-04 01\", \"2022-04-04 02\"),  \n",
    "    (\"2022-04-04 02\", \"2022-04-04 05\"),  \n",
    "    (\"2022-04-04 05\", \"2022-04-04 11\")   \n",
    "]\n",
    "\n",
    "for script in scripts:\n",
    "    print(f\"\\nRunning analysis with {script}...\\n\")\n",
    "    for start_date, end_date in timeframes:\n",
    "        command = f'python {script} \"{start_date}\" \"{end_date}\"'\n",
    "        print(f\"Executing: {command}\")\n",
    "        try:\n",
    "            result = subprocess.run(command, shell=True, capture_output=True, text=True)\n",
    "            print(f\"Output for timeframe '{start_date}' to '{end_date}':\")\n",
    "            print(result.stdout)\n",
    "            if result.stderr:\n",
    "                print(f\"Errors for timeframe '{start_date}' to '{end_date}':\", result.stderr)\n",
    "        except Exception as e:\n",
    "            print(f\"Error while executing {script} for timeframe '{start_date}' to '{end_date}': {e}\")\n"
   ]
  }
 ],
 "metadata": {
  "kernelspec": {
   "display_name": ".venv",
   "language": "python",
   "name": "python3"
  },
  "language_info": {
   "codemirror_mode": {
    "name": "ipython",
    "version": 3
   },
   "file_extension": ".py",
   "mimetype": "text/x-python",
   "name": "python",
   "nbconvert_exporter": "python",
   "pygments_lexer": "ipython3",
   "version": "3.13.1"
  }
 },
 "nbformat": 4,
 "nbformat_minor": 2
}
