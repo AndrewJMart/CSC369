{
 "cells": [
  {
   "cell_type": "code",
   "execution_count": 1,
   "metadata": {},
   "outputs": [],
   "source": [
    "import polars as pl\n",
    "import numpy as np\n",
    "import pyarrow.csv as pv\n",
    "import pyarrow.parquet as pq"
   ]
  },
  {
   "cell_type": "code",
   "execution_count": null,
   "metadata": {},
   "outputs": [
    {
     "name": "stdout",
     "output_type": "stream",
     "text": [
      "Original columns: ['recommendationid', 'appid', 'game', 'author_steamid', 'author_num_games_owned', 'author_num_reviews', 'author_playtime_forever', 'author_playtime_last_two_weeks', 'author_playtime_at_review', 'author_last_played', 'language', 'review', 'timestamp_created', 'timestamp_updated', 'voted_up', 'votes_up', 'votes_funny', 'weighted_vote_score', 'comment_count', 'steam_purchase', 'received_for_free', 'written_during_early_access', 'hidden_in_steam_china', 'steam_china_location']\n"
     ]
    }
   ],
   "source": [
    "# Input and output file paths\n",
    "csv_file = \"../all_reviews.csv\"\n",
    "\n",
    "# Read the CSV file to inspect the columns\n",
    "df = pl.read_csv(csv_file)\n",
    "print(\"Original columns:\", df.columns)\n",
    "\n",
    "# Columns to keep\n",
    "columns_to_keep = [\n",
    "    \"recommendationid\",\n",
    "    \"appid\",\n",
    "    \"game\",\n",
    "    \"voted_up\",\n",
    "    \"author_playtime_forever\",\n",
    "    \"author_playtime_last_two_weeks\",\n",
    "    \"author_playtime_at_review\",\n",
    "    \"author_last_played\",\n",
    "    \"timestamp_created\"\n",
    "]\n",
    "\n",
    "df = df.select(columns_to_keep)\n"
   ]
  },
  {
   "cell_type": "code",
   "execution_count": null,
   "metadata": {},
   "outputs": [
    {
     "name": "stdout",
     "output_type": "stream",
     "text": [
      "Cleaned CSV saved to ./all_reviews_processed.parquet\n"
     ]
    }
   ],
   "source": [
    "csv_output_file = \"../all_reviews_processed.parquet\"\n",
    "\n",
    "# Write the cleaned DataFrame to a new CSV file\n",
    "df.write_parquet(csv_output_file)\n",
    "\n",
    "print(f\"Cleaned CSV saved to {csv_output_file}\")"
   ]
  }
 ],
 "metadata": {
  "kernelspec": {
   "display_name": ".venv",
   "language": "python",
   "name": "python3"
  },
  "language_info": {
   "codemirror_mode": {
    "name": "ipython",
    "version": 3
   },
   "file_extension": ".py",
   "mimetype": "text/x-python",
   "name": "python",
   "nbconvert_exporter": "python",
   "pygments_lexer": "ipython3",
   "version": "3.13.1"
  }
 },
 "nbformat": 4,
 "nbformat_minor": 2
}
